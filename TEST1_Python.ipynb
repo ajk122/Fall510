{
 "cells": [
  {
   "cell_type": "markdown",
   "metadata": {},
   "source": [
    "# Test 1: Python\n",
    "## Alissa Klinzmann"
   ]
  },
  {
   "cell_type": "code",
   "execution_count": 37,
   "metadata": {
    "collapsed": false
   },
   "outputs": [],
   "source": [
    "import math \n",
    "\n",
    "def polygperim(coords):\n",
    "\n",
    "    \"\"\"\n",
    "    The function polygperim takes in coords and computes the perimeter of the polygon\n",
    "    that is defined by the input, coords.\n",
    "\n",
    "    Parameters:\n",
    "    coords: a vector of (x,y) pairs that describes the vertices of a polygon\n",
    "    \n",
    "    Return:\n",
    "    perimeter: a numeric value of the calculated perimeter\n",
    "    \n",
    "    ak-2015\n",
    "    \"\"\"\n",
    "    \n",
    "    # Method:\n",
    "    # Will need to calculate the distance between each of the coordinates \n",
    "    # from the input vector (coords), then take the sum of all the distances \n",
    "    # to obtain the perimeter.\n",
    "    \n",
    "    distVect = [] # Initializes empty list to append distance values to.\n",
    "\n",
    "    for i in range(len(coords)): # Set range to iterate through the length coords (a vector).\n",
    "        \n",
    "        # Need to first set up a system to compare each of the coordinates in coords, including\n",
    "        # the first and last value of coords.\n",
    "        \n",
    "        # The construct below will compare two points at index [i], and [i-1] (the value before it). \n",
    "        # This will account for comparing the first and last value in coords.\n",
    "\n",
    "        coord1 = coords[i-1] # Assigns the variable coord1 to the index [i-1].\n",
    "        coord2 = coords[i] # Assigns the variable coord1 to the index [i].\n",
    "        #print('coord1', coord1)\n",
    "        #print('coord2', coord2)\n",
    "        \n",
    "        # To find the perimeter, first need to calculate the distance between each point.\n",
    "        # The distance function is sqrt((x_1-x_2)^2 + (y_1-y_2)^2).\n",
    "        # Because of how coord1 and coord2 were assigned, we will be pulling only the [0] and [1] index\n",
    "        # of the ordered pairs. \n",
    "        # By using append, we are appending the distance value to distVect. \n",
    "        # Notation: math.sqrt is imported function from 'math' to allow the sqrt. \n",
    "        #           ** takes the power operator.\n",
    "        distVect.append(math.sqrt((coord1[0]-coord2[0])**2 + (coord1[1]-coord2[1])**2))\n",
    "            \n",
    "        \n",
    "    perimeter = sum(distVect) # Takes the sum of all values in distVect to find the perimeter.\n",
    "    \n",
    "    return (perimeter)\n"
   ]
  },
  {
   "cell_type": "code",
   "execution_count": 38,
   "metadata": {
    "collapsed": false,
    "scrolled": false
   },
   "outputs": [
    {
     "data": {
      "text/plain": [
       "8.0"
      ]
     },
     "execution_count": 38,
     "metadata": {},
     "output_type": "execute_result"
    }
   ],
   "source": [
    "coords = [(0,0), (2,0), (2,2), (0,2)] # Testing square\n",
    "polygperim(coords)"
   ]
  },
  {
   "cell_type": "code",
   "execution_count": 39,
   "metadata": {
    "collapsed": false
   },
   "outputs": [
    {
     "data": {
      "text/plain": [
       "18.0"
      ]
     },
     "execution_count": 39,
     "metadata": {},
     "output_type": "execute_result"
    }
   ],
   "source": [
    "coords = [(0,3*(3)**(1/2)), (-3,0), (3,0)] # Testing equilateral triangle\n",
    "polygperim(coords)"
   ]
  },
  {
   "cell_type": "code",
   "execution_count": 40,
   "metadata": {
    "collapsed": false
   },
   "outputs": [],
   "source": [
    "import math \n",
    "\n",
    "def polygarea(coords):\n",
    "\n",
    "    \"\"\"\n",
    "    The function polygarea takes in coords and computes the area of the polygon\n",
    "    that is defined by the input, coords.\n",
    "\n",
    "    Parameters:\n",
    "    coords: a vector of (x,y) pairs that describes the vertices of a polygon\n",
    "    \n",
    "    Return:\n",
    "    area: a numeric value of the calculated area\n",
    "    \n",
    "    ak-2015\n",
    "    \"\"\"\n",
    "    \n",
    "    # Method:\n",
    "    # Will first find all pairs of coordinates (as what was done for polygperim).\n",
    "    # Next, I will break up the components of Green's Theorem -- it's cleaner, for \n",
    "    # me, that way. \n",
    "    \n",
    "    # Greens Theorem: .5*|Sum((x_k)*(y_k+1)-(x_k+1)(y+k))| for k from 1:n where \n",
    "    # n is the number of polygon vertices.\n",
    "    \n",
    "    # First I will calculate the 'inner portion' ((x_k)*(y_k+1)-(x_k+1)(y+k)) of Green's \n",
    "    # Theorem and save the values to an initialized empty vector (areaVect). \n",
    "    # Then, once all values are calculated (which will account for the number of \n",
    "    # vertices of the polygon automatically since we iterated throught a for loop), \n",
    "    # I will apply the remaining components of Green's Theorem to the vector where \n",
    "    # the first part was stored (areaVect). So to complete Green's Theorem I \n",
    "    # will take .5*|Sum(areaVect)|.\n",
    "    \n",
    "    areaVect = [] # Initializes empty list to append distance values to.\n",
    "    \n",
    "    for i in range(len(coords)): # Set range to iterate through the length coords (a vector).\n",
    "        \n",
    "        # Need to first set up a system to compare each of the coordinates in coords, including\n",
    "        # the first and last value of coords.\n",
    "        \n",
    "        # The construct below will compare two points at index [i], and [i-1] (the value before it).  \n",
    "        # This will account for comparing the first and last value in coords.\n",
    "\n",
    "        coord1 = coords[i-1] # Assigns the variable coord1 to the index [i-1].\n",
    "        coord2 = coords[i] # Assigns the variable coord1 to the index [i].\n",
    "        \n",
    "        # To find the area, we will first use the 'inner portion' of Green's Theorem. \n",
    "        # Because of how coord1 and coord2 were assigned, we will be pulling only the [0] and [1] index\n",
    "        # of the ordered pairs. \n",
    "        innerGreen = (coord1[0]*coord2[1]) - (coord2[0]*coord1[1]) # Assigns the variable 'temp' to the 'inner portion'.\n",
    "        areaVect.append(innerGreen) # Uses append function to save to the empty list, 'areaVect'.\n",
    "            \n",
    "        \n",
    "    area = .5*(abs(sum(areaVect))) # By the remaining components of Green's Theorem.\n",
    "    \n",
    "    return (area)\n"
   ]
  },
  {
   "cell_type": "code",
   "execution_count": 41,
   "metadata": {
    "collapsed": false
   },
   "outputs": [
    {
     "data": {
      "text/plain": [
       "4.0"
      ]
     },
     "execution_count": 41,
     "metadata": {},
     "output_type": "execute_result"
    }
   ],
   "source": [
    "coords = [(0,0), (2,0), (2,2), (0,2)] # Testing square\n",
    "polygarea(coords)"
   ]
  },
  {
   "cell_type": "code",
   "execution_count": 42,
   "metadata": {
    "collapsed": false
   },
   "outputs": [
    {
     "data": {
      "text/plain": [
       "15.588457268119896"
      ]
     },
     "execution_count": 42,
     "metadata": {},
     "output_type": "execute_result"
    }
   ],
   "source": [
    "coords = [(0,3*(3)**(1/2)), (-3,0), (3,0)] # Testing equilateral triangle\n",
    "polygarea(coords)"
   ]
  },
  {
   "cell_type": "markdown",
   "metadata": {},
   "source": [
    "#### End "
   ]
  }
 ],
 "metadata": {
  "kernelspec": {
   "display_name": "Python 3",
   "language": "python",
   "name": "python3"
  },
  "language_info": {
   "codemirror_mode": {
    "name": "ipython",
    "version": 3
   },
   "file_extension": ".py",
   "mimetype": "text/x-python",
   "name": "python",
   "nbconvert_exporter": "python",
   "pygments_lexer": "ipython3",
   "version": "3.4.3"
  }
 },
 "nbformat": 4,
 "nbformat_minor": 0
}
