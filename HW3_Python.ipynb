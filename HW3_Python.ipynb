{
 "cells": [
  {
   "cell_type": "markdown",
   "metadata": {},
   "source": [
    "#Homework 3: Python\n",
    "## Alissa Klinzmann"
   ]
  },
  {
   "cell_type": "markdown",
   "metadata": {},
   "source": [
    "### 1. Define a procedure histogram() that takes a list of integers and prints a histogram to the screen. "
   ]
  },
  {
   "cell_type": "code",
   "execution_count": 1,
   "metadata": {
    "collapsed": false
   },
   "outputs": [],
   "source": [
    "def histogram(int_list):\n",
    "    \"\"\"\n",
    "    histogram() is a function that takes a list of integers as the input and\n",
    "    outputs the corresponding histogram.\n",
    "    \n",
    "    Parameters:\n",
    "    int_list = list of integers \n",
    "    \n",
    "    ak-2015\n",
    "    \"\"\"\n",
    "    \n",
    "    # Check parameter is a list:    \n",
    "    if type(int_list) == list:\n",
    "        \n",
    "        for i in range(0, len(int_list)): # Defines the range to iterate through as 0 to the length of list\n",
    "            \n",
    "            num = int_list[i] # Assignes the value in the list to num\n",
    "            print(num*'*') # Prints '*' the length of the number in the list\n",
    "                     \n",
    "            \n",
    "    # If input is not a list:\n",
    "    else:\n",
    "        print(\"Please re-enter input as a list of integers.\")\n",
    "        "
   ]
  },
  {
   "cell_type": "code",
   "execution_count": 2,
   "metadata": {
    "collapsed": false
   },
   "outputs": [
    {
     "name": "stdout",
     "output_type": "stream",
     "text": [
      "****\n",
      "*********\n",
      "*******\n"
     ]
    }
   ],
   "source": [
    "histogram([4, 9, 7])"
   ]
  },
  {
   "cell_type": "markdown",
   "metadata": {},
   "source": [
    "### 2. Write a function max_in_list that takes a list of numbers and reutrns the largest one. "
   ]
  },
  {
   "cell_type": "code",
   "execution_count": 3,
   "metadata": {
    "collapsed": true
   },
   "outputs": [],
   "source": [
    "def max_in_list(list1):\n",
    "    \n",
    "    \"\"\"\n",
    "    max_in_list() is a funtion that takes in a list of any size\n",
    "    and returns the largest value in the list.\n",
    "    \n",
    "    Parameters:\n",
    "    list1 = list\n",
    "    \n",
    "    ak-2015\n",
    "    \"\"\"\n",
    "    \n",
    "    # Check parameter is a list: \n",
    "    if type(list1) == list:\n",
    "        \n",
    "        max_num = list1[0] # For simplicity, let the max_num be the first element. Will use this element to compare\n",
    "                          # against other elements in the list\n",
    "        \n",
    "        for i in range(0, len(list1)): # Defines the range to iterate over\n",
    "            \n",
    "            if list1[i] > max_num: # Compares each element in the list to the max_num\n",
    "                max_num = list1[i] # If the element in the list is greater than \n",
    "                                   # max_num, max_num will be reassigned as list1[i]\n",
    "                    \n",
    "        print(max_num)\n",
    "        \n",
    "        \n",
    "    # If input is not a list:\n",
    "    else:\n",
    "        print(\"Please re-enter input that is a list.\")\n",
    "        "
   ]
  },
  {
   "cell_type": "code",
   "execution_count": 4,
   "metadata": {
    "collapsed": false
   },
   "outputs": [
    {
     "name": "stdout",
     "output_type": "stream",
     "text": [
      "6\n"
     ]
    }
   ],
   "source": [
    "max_in_list([1,6,3,4])"
   ]
  },
  {
   "cell_type": "markdown",
   "metadata": {},
   "source": [
    "### 3. Write a program that maps a list of words into a list of integers representing the lengths of the corresponding words."
   ]
  },
  {
   "cell_type": "code",
   "execution_count": 5,
   "metadata": {
    "collapsed": false
   },
   "outputs": [],
   "source": [
    "def word_to_int(list1):\n",
    "    \n",
    "    '''\n",
    "    word_to_list() is a function that takes in a list of words and \n",
    "    returns a list of numbers that corresponds to the length\n",
    "    of the words from the input list.\n",
    "    \n",
    "    Parameters:\n",
    "    list1 = list\n",
    "    \n",
    "    ak-2015\n",
    "    '''\n",
    "    \n",
    "    # Check parameter is a list: \n",
    "    if type(list1) == list:\n",
    "        new_list = [] # Initializes the empty list to store the list of numbers\n",
    "        \n",
    "        for i in range(0, len(list1)): # Defines the range to iterate over\n",
    "            num = len(list1[i]) # Assigns 'num' the value of the length of the word (integer) in the list \n",
    "            new_list.append(num) # Appends 'num' to 'new_list'\n",
    "        \n",
    "        print(new_list)    \n",
    " \n",
    "        \n",
    "    # If input is not a list:\n",
    "    else:\n",
    "        print(\"Please re-enter input that is a list.\")\n",
    "    "
   ]
  },
  {
   "cell_type": "code",
   "execution_count": 6,
   "metadata": {
    "collapsed": false
   },
   "outputs": [
    {
     "name": "stdout",
     "output_type": "stream",
     "text": [
      "[1, 2, 5]\n"
     ]
    }
   ],
   "source": [
    "word_to_int(['a','bc','hello'])"
   ]
  },
  {
   "cell_type": "markdown",
   "metadata": {},
   "source": [
    "### 4. Write a function find_longest_word() that takes a list of words and returns the length of the longest one. "
   ]
  },
  {
   "cell_type": "code",
   "execution_count": 7,
   "metadata": {
    "collapsed": true
   },
   "outputs": [],
   "source": [
    "def find_longest_word(list1):\n",
    "    \n",
    "    \"\"\"\n",
    "    find_longest_word() is a function that takes a list of words \n",
    "    and returns the length of the longest one.\n",
    "    \n",
    "    Parameters:\n",
    "    list1 = list    \n",
    "    \n",
    "    ak-2015\n",
    "    \"\"\"\n",
    "        \n",
    "    # Check parameter is a list: \n",
    "    if type(list1) == list:\n",
    "        new_list = [] # Initializes the empty list to store the list of numbers\n",
    "        \n",
    "        for i in range(0, len(list1)): # Defines the range to iterate over\n",
    "            num = len(list1[i]) # Use length function to determine the length of the string (value is integer)\n",
    "            new_list.append(num) # Save the numbers generated from the length of the strings to 'new_list'\n",
    "        \n",
    "        longest_word = max_in_list(new_list) # Can call max_in_list() function to determine the max in 'new_list' \n",
    "        \n",
    "        return(longest_word)\n",
    "  \n",
    "        \n",
    "    # If input is not a list:\n",
    "    else:\n",
    "        print(\"Please re-enter input that is a list.\")\n",
    "    "
   ]
  },
  {
   "cell_type": "code",
   "execution_count": 8,
   "metadata": {
    "collapsed": false
   },
   "outputs": [
    {
     "name": "stdout",
     "output_type": "stream",
     "text": [
      "6\n"
     ]
    }
   ],
   "source": [
    "find_longest_word(['pi', 'math', 'coffee'])"
   ]
  },
  {
   "cell_type": "markdown",
   "metadata": {},
   "source": [
    "### 5. Write a function filter_long_words that takes a list of words and an integer n and returns the list of words that are longer than n."
   ]
  },
  {
   "cell_type": "code",
   "execution_count": 9,
   "metadata": {
    "collapsed": true
   },
   "outputs": [],
   "source": [
    "def filter_long_words(list1, n):\n",
    "    \n",
    "    \"\"\"\n",
    "    filter_long_words() is a function that takes a list of words and an integer \n",
    "    and returns the list of words that are longer than the interger in the input\n",
    "    parameter.\n",
    "    \n",
    "    Paramters:\n",
    "    list1 = list\n",
    "    n = integer\n",
    "    \n",
    "    ak-2015\n",
    "    \"\"\"\n",
    "    \n",
    "    # Check parameter is a list: \n",
    "    if type(list1) == list:\n",
    "        new_list = [] # Initializes the empty list\n",
    "        \n",
    "        for i in range(0, len(list1)): # Defines the range to iterate over\n",
    "            num = len(list1[i]) # Use length function to determine the length of the string (value is integer)\n",
    "            new_list.append(num) # Save the numbers generated from the length of the strings to 'new_list'\n",
    "            \n",
    "            \n",
    "        filter_list = [] # Initializes empty list\n",
    "        \n",
    "        \n",
    "        # Will now look at the data from new_list and can map back to list1 because index is the same:\n",
    "        for i in range (0, len(new_list)): # Defines the range to iterate over \n",
    "            if new_list[i] > n: # Looks at the element (integer) in new_list and compares to n\n",
    "                filter_list.append(list1[i]) # Want to append the words that are longer than n to 'filter_list'\n",
    "        \n",
    "        return(filter_list)      \n",
    "\n",
    "  \n",
    "        \n",
    "    # If input is not a list:\n",
    "    else:\n",
    "        print(\"Please re-enter input that is a list.\")\n",
    "        "
   ]
  },
  {
   "cell_type": "code",
   "execution_count": 10,
   "metadata": {
    "collapsed": false
   },
   "outputs": [
    {
     "data": {
      "text/plain": [
       "['coffee', 'Fibonacci']"
      ]
     },
     "execution_count": 10,
     "metadata": {},
     "output_type": "execute_result"
    }
   ],
   "source": [
    "filter_long_words(['pi', 'math', 'coffee', 'Fibonacci'], 4)"
   ]
  },
  {
   "cell_type": "markdown",
   "metadata": {},
   "source": [
    "### 6. Write a version of palindrome recognizer that also accepts phrase palindromes such as, \"Go hang a salami I'm a lasagna hog\", \"Was it a rat I saw\", etc. Note: Can ignore punctuation, capitalization, and spacing. "
   ]
  },
  {
   "cell_type": "code",
   "execution_count": 11,
   "metadata": {
    "collapsed": true
   },
   "outputs": [],
   "source": [
    "def palindrome_phrase(string):\n",
    "    \n",
    "    \"\"\"\n",
    "    palindrome_phrase() is a function that recognizes palindromes. The input can be a word or a phrase.\n",
    "    \n",
    "    For example:\n",
    "    palindrome_phrase(\"radar\") should return True. \n",
    "    palindrome_phrase(\"Go hang a salami I'm a lasagna hog\") should return True.\n",
    "    \n",
    "    Parameter: \n",
    "    string = string\n",
    "    \n",
    "    ak-2015    \n",
    "    \"\"\"\n",
    "    \n",
    "    # Check parameter is a string:\n",
    "    if type(string) == str:\n",
    "        \n",
    "        \n",
    "        # First need to edit the string to not contain whitespace, punctutation, or capital letters.\n",
    "        \n",
    "        # To remove whitespace:\n",
    "        new_string = string.replace(' ', '') # Use built in replace function to remove whitespace\n",
    "        \n",
    "        # To remove punctutation:\n",
    "        punctuation = '''!()-[]{};:'\"\\,<>./?@#$%^&*_~''' # Defines punctuatin characters\n",
    "        no_punct = '' # Defines empty string \n",
    "        for i in new_string: # Iterates through new_string\n",
    "            if i not in punctuation: # If element is not a punctuation \n",
    "                no_punct = no_punct + i # Then add element to 'no_punct' string\n",
    "\n",
    "            \n",
    "        # To make capital letters lowercase:    \n",
    "        lower = no_punct.lower()\n",
    "       \n",
    "        \n",
    "              \n",
    "        # Checking if palindrome now that elements in the string are consistent:\n",
    "        reverse_string = lower[::-1] # Using code from problem 8 to find the reverse, since palindromes are the spelled\n",
    "                                      # the same forwards and backwards.\n",
    "        \n",
    "        if lower == reverse_string: # Checks if the original (forwards) string equals the reverse (backwards) string.\n",
    "            print (True)\n",
    "        \n",
    "        else:\n",
    "            print (False)\n",
    "        \n",
    "    else:\n",
    "        print(\"Please re-enter parameter that is of type 'string'.\")\n",
    "        "
   ]
  },
  {
   "cell_type": "code",
   "execution_count": 12,
   "metadata": {
    "collapsed": false
   },
   "outputs": [
    {
     "name": "stdout",
     "output_type": "stream",
     "text": [
      "True\n",
      "True\n",
      "False\n"
     ]
    }
   ],
   "source": [
    "palindrome_phrase(\"Go hang a salami I'm a lasagna hog.\")\n",
    "palindrome_phrase(\"Was it a rat I saw?\")\n",
    "palindrome_phrase(\"Coffee is.\")"
   ]
  },
  {
   "cell_type": "markdown",
   "metadata": {
    "collapsed": true
   },
   "source": [
    "### 7. A pangram is a sentence that contains all the letters of the English alphabet at least once. For example: \"The quick brown fox jumps over the lazy dog.\" Write a function to check if a sentence is a pangram. "
   ]
  },
  {
   "cell_type": "code",
   "execution_count": 32,
   "metadata": {
    "collapsed": true
   },
   "outputs": [],
   "source": [
    "def is_pangram(sentence):\n",
    "    \n",
    "    \"\"\"\n",
    "    is_pangram() is a function that checks if a sentence (input as a string) \n",
    "    is a pangram or not. A pangram is defines as a sentence that contains all\n",
    "    the letters of the English alphabet at least once.\n",
    "    \n",
    "    For example: \"The quick brown fox jumps over the lazy dog\" should return True.\n",
    "    \n",
    "    Parameters:\n",
    "    sentence = string\n",
    "    \n",
    "    ak-2015\n",
    "    \"\"\"\n",
    "    \n",
    "     \n",
    "    # Check parameter is a string:\n",
    "    if type(sentence) == str:\n",
    "        \n",
    "        # For simplicity, make the sentence all lowercase letters:\n",
    "        new_sentence = sentence.lower()\n",
    "        \n",
    "        \n",
    "        # To remove whitespace:\n",
    "        new_sentence = new_sentence.replace(' ', '')\n",
    "       \n",
    "        \n",
    "        # To remove punctutation:\n",
    "        punctuation = '''!()-[]{};:'\"\\,<>./?@#$%^&*_~''' # Defines punctuatin characters\n",
    "        no_punct = '' # Defines empty string \n",
    "        for i in new_sentence: # Iterates through new_string\n",
    "            if i not in punctuation: # If element is not a punctuation \n",
    "                no_punct = no_punct + i # Then add element to 'no_punct' string\n",
    "        \n",
    "        \n",
    "        # Since we are just checking if all of the letters in the alphabet are present,\n",
    "        # we can alphabetize the string by sorting it. (Don't need to output the sentence\n",
    "        # at the end so order doesn't matter.)\n",
    "        alphabet_sent = sorted(no_punct) # Use built in sorted function to alphabetize\n",
    "        \n",
    "        \n",
    "        # To remove duplicates from alphabet_sent:\n",
    "        import numpy as np # Using numpy\n",
    "        alphabet_sent = np.unique(alphabet_sent).tolist() # Finds all the unique values in list\n",
    "        \n",
    "        \n",
    "        # Define the lowercase alphabet\n",
    "        alphabet = list ('abcdefghijklmnopqrstuvwxyz')\n",
    "\n",
    "        \n",
    "        # Check to see if alphabet_sent is equal to alphabet:\n",
    "        if alphabet_sent == alphabet:\n",
    "            return True\n",
    "        else:\n",
    "            return False\n",
    "        \n",
    "        \n",
    "    else:\n",
    "        print(\"Please re-enter parameter that is of type 'string'.\")\n",
    "        "
   ]
  },
  {
   "cell_type": "code",
   "execution_count": 31,
   "metadata": {
    "collapsed": false
   },
   "outputs": [
    {
     "name": "stdout",
     "output_type": "stream",
     "text": [
      "True\n",
      "False\n"
     ]
    }
   ],
   "source": [
    "print(is_pangram(\"The quick brown fox jumps over the lazy dog!\"))\n",
    "print(is_pangram(\"Coffee is the daily suplement.\"))"
   ]
  },
  {
   "cell_type": "markdown",
   "metadata": {},
   "source": [
    "### 8. \"99 Bottles of Coke\" is a traditional song in the US and Canada. Write a program generating all the verses of the song. "
   ]
  },
  {
   "cell_type": "code",
   "execution_count": 15,
   "metadata": {
    "collapsed": false
   },
   "outputs": [],
   "source": [
    "def bottles_of_coke(n):\n",
    "    \n",
    "    \"\"\"\n",
    "    bottles_of_coke() is a function that generates the renowed \n",
    "    song, \"99 Bottles of Coke\". The function will take an integer n as \n",
    "    the input and return the lyrics of \"99 Bottles\" counting down from\n",
    "    the given n.\n",
    "    \n",
    "    Parameters:\n",
    "    n = integer\n",
    "    \n",
    "    ak-2015\n",
    "    \"\"\"\n",
    "    \n",
    "    for i in range(n, -1, -1): # Defines the range to iterate through backwards\n",
    "\n",
    "        # For values of i greater than zero, countdown:    \n",
    "        if i > 0:\n",
    "            bottle = i # Assigns integer to bottle\n",
    "            next_bottle = bottle-1 # Assigns the next_bottle value one less \n",
    "\n",
    "            print (bottle,'Bottles of Coke on the wall,', bottle, 'bottles of coke.',\n",
    "                  'Take one down, pass it around,', next_bottle, 'bottles of coke on the wall!' )\n",
    "        \n",
    "        # When i = 0, then there are no more bottles of coke to go around, so\n",
    "        # let's conclude the song.\n",
    "        else:           \n",
    "            print ('No more bottles of Coke on the wall, no more bottles of coke.',\n",
    "                  'You cannot take it down or pass it around, there are no more bottles of coke on the wall!' )\n",
    " "
   ]
  },
  {
   "cell_type": "code",
   "execution_count": 16,
   "metadata": {
    "collapsed": false
   },
   "outputs": [
    {
     "name": "stdout",
     "output_type": "stream",
     "text": [
      "5 Bottles of Coke on the wall, 5 bottles of coke. Take one down, pass it around, 4 bottles of coke on the wall!\n",
      "4 Bottles of Coke on the wall, 4 bottles of coke. Take one down, pass it around, 3 bottles of coke on the wall!\n",
      "3 Bottles of Coke on the wall, 3 bottles of coke. Take one down, pass it around, 2 bottles of coke on the wall!\n",
      "2 Bottles of Coke on the wall, 2 bottles of coke. Take one down, pass it around, 1 bottles of coke on the wall!\n",
      "1 Bottles of Coke on the wall, 1 bottles of coke. Take one down, pass it around, 0 bottles of coke on the wall!\n",
      "No more bottles of Coke on the wall, no more bottles of coke. You cannot take it down or pass it around, there are no more bottles of coke on the wall!\n"
     ]
    }
   ],
   "source": [
    "bottles_of_coke(5)"
   ]
  },
  {
   "cell_type": "markdown",
   "metadata": {},
   "source": [
    "### 9. Represent a small bilingual lexicon as a Python dictionary in the following fashion: {\"merry\" : \"god\", \"christmas\" : \"jul\", \"and\" : \"och\", \"happy\" : \"gott\", \"new\" : \"nytt\", \"year\" : \"år\"} and use it to translate your Christmas cards from English to Swedish. Write a function translate() that takes English words and translates to Swedish.  "
   ]
  },
  {
   "cell_type": "code",
   "execution_count": 33,
   "metadata": {
    "collapsed": false
   },
   "outputs": [],
   "source": [
    "def translate(english):\n",
    "    \n",
    "    \"\"\"\n",
    "    translate() is a function that is a small dictionary that \n",
    "    can translate Christmas cards from English to Swedish.\n",
    "    \n",
    "    Words in dictionary include:\n",
    "    {\"merry\" : \"god\", \n",
    "    \"christmas\" : \"jul\", \n",
    "    \"and\" : \"och\", \n",
    "    \"happy\" : \"gott\", \n",
    "    \"new\" : \"nytt\", \n",
    "    \"year\" : \"år\"} \n",
    "    \n",
    "    Parameters:\n",
    "    english = string\n",
    "    \n",
    "    * Note: This function will only translate the Christmas \n",
    "      vocabulary words in dictionary. Nothing more.\n",
    "    \n",
    "    \n",
    "    ak-2015\n",
    "    \"\"\"\n",
    "    \n",
    "    # Builds the swedish dictionary:\n",
    "    swedish = {\"merry\" : \"god\", \n",
    "    \"christmas\" : \"jul\", \n",
    "    \"and\" : \"och\", \n",
    "    \"happy\" : \"gott\", \n",
    "    \"new\" : \"nytt\", \n",
    "    \"year\" : \"år\"} # Curly brace indicates dictionary\n",
    "    \n",
    "    # Takes the string 'english' and forms a list of the elements \n",
    "    # so that we can iterate through the individual words in the dictionary:\n",
    "    eng_list = list(english.split(' ')) # Forms list of words and splits at whitespace\n",
    "   \n",
    "   \n",
    "    # To translation into Swedish\n",
    "    translation = '' # Initiates empty string\n",
    "\n",
    "    # Iterating through English words and comparing to keys/values in Swedish dictionary\n",
    "    for word in eng_list: \n",
    "        translation = translation + ' ' + swedish[word] # Updates 'translation' string with blank space and\n",
    "                                                        # and the value returned from the Swedish dictionary\n",
    "    \n",
    "    print(translation)   \n",
    "    \n",
    "    "
   ]
  },
  {
   "cell_type": "code",
   "execution_count": 34,
   "metadata": {
    "collapsed": false
   },
   "outputs": [
    {
     "name": "stdout",
     "output_type": "stream",
     "text": [
      " god jul och gott nytt år\n"
     ]
    }
   ],
   "source": [
    "translate('merry christmas and happy new year')"
   ]
  },
  {
   "cell_type": "markdown",
   "metadata": {},
   "source": [
    "### 10. Write a function char_freq() that takes a string and builds a frequency listing of the characters contained in it. Represent the frequency using a Python dictionary.  "
   ]
  },
  {
   "cell_type": "code",
   "execution_count": 35,
   "metadata": {
    "collapsed": false
   },
   "outputs": [],
   "source": [
    "def char_freq(string):\n",
    "    \n",
    "    \"\"\"\n",
    "    char_freq() is a function that takes a string and builds\n",
    "    a frequency listing of the characters contained in it.\n",
    "    The output represents the frequency as a dictionary.\n",
    "    \n",
    "    Parameters:\n",
    "    string = string\n",
    "    \n",
    "    ak-2015\n",
    "    \"\"\"\n",
    "    \n",
    "    freq_list = list(string) # Makes a list of the elements in the string that can \n",
    "                             # then uses as the keys in the dictionary\n",
    "\n",
    "    # To form a list of values from freq_list with the associated number of occurrences \n",
    "    # of the element in the list. Can use the built in count() function which \n",
    "    # returns the number of occurrences of substring sub in the list.\n",
    "    [[item,freq_list.count(item)] for item in set(freq_list)]  \n",
    "    \n",
    "    # Creates a dictionary of the items and value of occurrences from the list of \n",
    "    # values in the string. Here the element from the string is the 'key' and the \n",
    "    # value of the occurence is the 'value'.\n",
    "    freq_dict = dict((item,freq_list.count(item)) for item in set(freq_list))\n",
    "    \n",
    "    # Note, dictionaries are not ordered.\n",
    "    print(freq_dict)\n",
    "\n",
    "    "
   ]
  },
  {
   "cell_type": "code",
   "execution_count": 37,
   "metadata": {
    "collapsed": false
   },
   "outputs": [
    {
     "name": "stdout",
     "output_type": "stream",
     "text": [
      "{'d': 2, 'c': 3, 'a': 7, 'b': 14}\n"
     ]
    }
   ],
   "source": [
    "char_freq('abbabcbbabdbdbabababcbcbab')"
   ]
  },
  {
   "cell_type": "markdown",
   "metadata": {},
   "source": [
    "### 11. Implement an encoder/decoder of ROT-13 (a Caeser cipher where the shift is 13)."
   ]
  },
  {
   "cell_type": "code",
   "execution_count": 38,
   "metadata": {
    "collapsed": false
   },
   "outputs": [],
   "source": [
    "def rot13(encryption):\n",
    "    \n",
    "    \"\"\"\n",
    "    rot13() is a function that decodes a Caeser cipher encryption based \n",
    "    on a rotation by 13 places. \n",
    "    \n",
    "    In cryptography, a Caeser cipher is an encryption technique that takes\n",
    "    a letter and replaces it by another letter some fixed number of positions\n",
    "    down the alphabet. \n",
    "    \n",
    "    For example, with a shift of 3, A would be replaced by D, B replaced by E, etc.\n",
    "    \n",
    "    ROT-13 rotates 13 places.\n",
    "    \n",
    "    Parameters:\n",
    "    encryption = string\n",
    "    \n",
    "    ak-2015\n",
    "    \"\"\"\n",
    "    \n",
    "    # Define the keys (alphabet) and values(shifted alhpabet by 13):\n",
    "    keys = list('abcdefghijklmnopqrstuvwxyzABCDEFGHIJKLMNOPQRSTUVWXYZ.?! ') # Includes punctuation and whitespace\n",
    "    values = list('nopqrstuvwxyzabcdefghijklmNOPQRSTUVWXYZABCDEFGHIJKLM.?! ') # Includes punctuation and whitespace  \n",
    "\n",
    "\n",
    "    # Creates dictionary from the keys and values:    \n",
    "    dict_key = dict(zip(keys, values)) # Zip takes two lists and pairs the two lists as 'key':'value'. \n",
    "                                       # Can do this because lists are ordered.\n",
    "        \n",
    "    \n",
    "    # To decode the encryption:\n",
    "    \n",
    "    # Takes the string 'ecryption' and forms a list of the elements \n",
    "    # so that we can iterate through the individual words in the dictionary:\n",
    "    encrypt_list = list(encryption)\n",
    "    \n",
    "    # To translate\n",
    "    decode = '' # Initiates empty string\n",
    "\n",
    "    # Iterating through the encrypted letters and comparing to keys/values in dictionary:\n",
    "    for letter in encrypt_list: \n",
    "        decode = decode + dict_key[letter] # Adds the decoded letter to the 'decode' string\n",
    "    \n",
    "    print(decode)   \n",
    "    "
   ]
  },
  {
   "cell_type": "code",
   "execution_count": 39,
   "metadata": {
    "collapsed": false
   },
   "outputs": [
    {
     "name": "stdout",
     "output_type": "stream",
     "text": [
      "Caesar cipher? I much prefer Caesar salad!\n"
     ]
    }
   ],
   "source": [
    "rot13('Pnrfne pvcure? V zhpu cersre Pnrfne fnynq!')"
   ]
  },
  {
   "cell_type": "markdown",
   "metadata": {},
   "source": [
    "### 12. Define a simple \"spelling correction\" function correct() that takes a string and makes appropriate corrections."
   ]
  },
  {
   "cell_type": "code",
   "execution_count": 40,
   "metadata": {
    "collapsed": false
   },
   "outputs": [],
   "source": [
    "def correct(sentence):\n",
    "    \n",
    "    \"\"\"\n",
    "    correct() is a function that provides the following\n",
    "    two spelling corrections to a sentence.\n",
    "    \n",
    "    1) If there are two or more occurrences of the space character, \n",
    "       it is compressed into one\n",
    "    2) If there is not a space after a period (if the period is directly \n",
    "       followed by a letter), a space is inserted.\n",
    "       \n",
    "    Parameters:\n",
    "    sentence = string\n",
    "    \n",
    "    ak-2015\n",
    "    \"\"\"\n",
    "    \n",
    "    correct_sent = '' # Initializes string\n",
    "    \n",
    "    for word in sentence: # Iterates through all elements\n",
    "        \n",
    "        # Creating a space after a period:\n",
    "        if word == \".\": # Checks if element is a period\n",
    "            correct_sent = correct_sent + \". \" # Updates 'correct_sent' with a space after the period\n",
    "        \n",
    "        # If element is not a period, then adds the element back to 'correct_sent':\n",
    "        else:\n",
    "            correct_sent = correct_sent + word\n",
    "                 \n",
    "    # Eliminates duplicate whitespaces: \n",
    "    correct_sent = correct_sent.replace('  ', ' ') \n",
    "    \n",
    "    print(correct_sent)\n",
    "            "
   ]
  },
  {
   "cell_type": "code",
   "execution_count": 41,
   "metadata": {
    "collapsed": false
   },
   "outputs": [
    {
     "name": "stdout",
     "output_type": "stream",
     "text": [
      "This is very funny and cool. Indeed!\n",
      "Hello world. \n"
     ]
    }
   ],
   "source": [
    "correct(\"This  is very funny and cool.Indeed!\")\n",
    "\n",
    "correct(\"Hello  world.\")"
   ]
  },
  {
   "cell_type": "markdown",
   "metadata": {},
   "source": [
    "### 13. The third person singular verb form in English is distinguished by the suffix -s, which is added to the stem of the infinitive form: runs --> runs. Define a function make_3sg_form() which given a verb in infinitive form returns its third person singular form. "
   ]
  },
  {
   "cell_type": "code",
   "execution_count": 44,
   "metadata": {
    "collapsed": false
   },
   "outputs": [],
   "source": [
    "def make_3sg_form(verb):\n",
    "    \n",
    "    \"\"\"\n",
    "     make_3sg_form() is a function which given a verb in infinitive \n",
    "     form returns its third person singular form.\n",
    "    \n",
    "    The third person singular verb form in English is distinguished \n",
    "    by the suffix \"-s\", which is added to the stem of the infinitive \n",
    "    form: runs --> runs.\n",
    "    \n",
    "    Rules are as follows:\n",
    "    i) If the verb ends in \"y\", remove it and add \"-ies\".\n",
    "    ii) If the verb ends in \"o\", \"ch\", \"s\", \"sh\", \"x\", or \"z\", add \"-es\".\n",
    "    iii) All other endings, add \"-s\".\n",
    "    \n",
    "    Parameters:\n",
    "    verb = string    \n",
    "    \n",
    "    ak-2015\n",
    "    \"\"\"\n",
    "\n",
    "    new_verb ='' # Initializes empty string\n",
    "    \n",
    "    # Checks case that verb ends with a \"y\":\n",
    "    if verb.endswith('y'):\n",
    "        verb = verb.rstrip(verb[-1]) # Indexed to delete last element in string\n",
    "        new_verb = verb + 'ies' # Adds 'ies' to verb and saves to 'new_verb' \n",
    "    \n",
    "    \n",
    "    # Checks cases if verb ends \"o\", \"ch\", \"s\", \"sh\", \"x\", or \"z\":\n",
    "    elif verb.endswith('o'): \n",
    "        new_verb = verb + 'es' # Adds '-es' to verb and saves to 'new_verb' \n",
    "        \n",
    "    elif verb.endswith('ch'):\n",
    "        new_verb = verb + 'es' # Adds '-es' to verb and saves to 'new_verb'\n",
    "        \n",
    "    elif verb.endswith('s'):\n",
    "        new_verb = verb + 'es' # Adds '-es' to verb and saves to 'new_verb'\n",
    "        \n",
    "    elif verb.endswith('sh'):\n",
    "        new_verb = verb + 'es' # Adds '-es' to verb and saves to 'new_verb'\n",
    "        \n",
    "    elif verb.endswith('x'):\n",
    "        new_verb = verb + 'es' # Adds '-es' to verb and saves to 'new_verb'\n",
    "    \n",
    "    elif verb.endswith('z'):\n",
    "        new_verb = verb + 'es' # Adds '-es' to verb and saves to 'new_verb'\n",
    "\n",
    "    # For all other cases, just add '-s':\n",
    "    else:\n",
    "        new_verb = verb + 's' # Adds '-s' to verb and saves to 'new_verb'\n",
    "    \n",
    "   \n",
    "    print (new_verb)\n",
    "    "
   ]
  },
  {
   "cell_type": "code",
   "execution_count": 45,
   "metadata": {
    "collapsed": false
   },
   "outputs": [
    {
     "name": "stdout",
     "output_type": "stream",
     "text": [
      "tries\n",
      "brushes\n",
      "runs\n",
      "fixes\n"
     ]
    }
   ],
   "source": [
    "make_3sg_form('try')\n",
    "make_3sg_form('brush')\n",
    "make_3sg_form('run')\n",
    "make_3sg_form('fix')\n"
   ]
  },
  {
   "cell_type": "markdown",
   "metadata": {},
   "source": [
    "### 14. In English, the present participle is formed by adding the suffix -ing to the infinite form: go --> going. Define a function make_ing_form() which given a verb in infinitive form returns its present participle form.  "
   ]
  },
  {
   "cell_type": "code",
   "execution_count": 46,
   "metadata": {
    "collapsed": false
   },
   "outputs": [],
   "source": [
    "def make_ing_form(verb):\n",
    "    \n",
    "    \"\"\"\n",
    "    make_ing_form() is a function that takes a given verb in infinitive \n",
    "    form and returns the present participle form of the verb. The present \n",
    "    participle is formed by adding the suffix \"-ing\" to the infinite form.\n",
    "    \n",
    "    Rules are as follows:\n",
    "    i) If the verb end in \"e\", drop the \"e\" and add \"-ing\", with the \n",
    "       exception of words including: be, see, flee, knee, etc.\n",
    "    ii) If the verb ends in \"ie\", change \"ie\" to \"y\" and add \"-ing\".\n",
    "    iii) For words consisting of consonant-vowel-consonant, double the final letter \n",
    "         before adding \"-ing\".\n",
    "    iv) By default just add \"-ing\".\n",
    "    \n",
    "    Parameters:\n",
    "    verb = string\n",
    "    \n",
    "    ak-2015\n",
    "    \"\"\"\n",
    "    \n",
    "    ing_verb = '' # Initializes empty string\n",
    "    \n",
    "    # Cases are in particular order to distinguish the different cases of \n",
    "    # ending with \"e\", whether it is \"ie\", \"ee\", or just \"e\". This if-statement\n",
    "    # construct is dependent on the order for correct results.\n",
    "\n",
    "    \n",
    "    # Case where verb ends with consonant-vowel-consonant for words that are longer than 2 letters:\n",
    "    vowel = list('aeiou') # Creates list of vowels\n",
    "    consonant = list('bcdfghjklmnpqrstvwxyz') # Creates list of consonants\n",
    "      \n",
    "    if (len(verb) >= 3) and (verb[-3] in consonant) and (verb[-2] in vowel) and (verb[-1] in consonant):\n",
    "        # Index notation verb[-3] = third to last element, verb[-2] = second to last element, verb[-1] = last element\n",
    "        ing_verb = verb + verb[-1] + 'ing' # verb[-1] takes the last element of the verb and \n",
    "                                           # adds it to the string to double it, then adds '-ing'\n",
    "    \n",
    "    \n",
    "    # Case verb ends in \"ie\":\n",
    "    elif verb.endswith('ie'):\n",
    "        verb = verb.rstrip(verb[-2:]) # Indexed to delete last two element in string\n",
    "        ing_verb = verb + \"ying\" # Adds 'y + -ing' and saves to 'ing_verb'\n",
    "\n",
    "        \n",
    "    # Exception cases of verb ending with \"e\":\n",
    "    \n",
    "    # If verb is 'be':\n",
    "    elif verb == 'be':\n",
    "        ing_verb = verb + 'ing' # Adds '-ing' to verb and saves to 'ing_verb'\n",
    "    \n",
    "    # If verb ends with \"ee\":\n",
    "    elif verb.endswith('ee'):\n",
    "        ing_verb = verb + 'ing' # Adds '-ing' to verb and saves to 'ing_verb'\n",
    "        \n",
    "        \n",
    "    # General case verb ending with \"e\":\n",
    "    elif verb.endswith('e'):\n",
    "        verb = verb.rstrip(verb[-1]) # Indexed to delete last element in string\n",
    "        ing_verb = verb + 'ing' # Adds '-ing' to verb and saves to 'ing_verb' \n",
    "    \n",
    "    # In general, just add \"-ing\":\n",
    "    else:\n",
    "        ing_verb = verb + 'ing' # Adds '-ing' to verb and saves to 'ing_verb' \n",
    "\n",
    "    \n",
    "    print(ing_verb)"
   ]
  },
  {
   "cell_type": "code",
   "execution_count": 47,
   "metadata": {
    "collapsed": false
   },
   "outputs": [
    {
     "name": "stdout",
     "output_type": "stream",
     "text": [
      "lying\n",
      "moving\n",
      "hugging\n",
      "being\n",
      "seeing\n"
     ]
    }
   ],
   "source": [
    "make_ing_form('lie')\n",
    "make_ing_form('move')\n",
    "make_ing_form('hug')\n",
    "make_ing_form('be')\n",
    "make_ing_form('see')"
   ]
“AW: Great job on this assignment!!”
  },
  {
   "cell_type": "markdown",
   "metadata": {},
   "source": [
    "#### End Homework 3."
   ]
  }
 ],
 "metadata": {
  "kernelspec": {
   "display_name": "Python 3",
   "language": "python",
   "name": "python3"
  },
  "language_info": {
   "codemirror_mode": {
    "name": "ipython",
    "version": 3
   },
   "file_extension": ".py",
   "mimetype": "text/x-python",
   "name": "python",
   "nbconvert_exporter": "python",
   "pygments_lexer": "ipython3",
   "version": "3.4.3"
  }
 },
 "nbformat": 4,
 "nbformat_minor": 0
}
